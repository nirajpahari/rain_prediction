{
  "nbformat": 4,
  "nbformat_minor": 0,
  "metadata": {
    "kernelspec": {
      "display_name": "Python 3",
      "language": "python",
      "name": "python3"
    },
    "language_info": {
      "codemirror_mode": {
        "name": "ipython",
        "version": 3
      },
      "file_extension": ".py",
      "mimetype": "text/x-python",
      "name": "python",
      "nbconvert_exporter": "python",
      "pygments_lexer": "ipython3",
      "version": "3.7.4"
    },
    "colab": {
      "name": "rain_prediction_pipeline.ipynb",
      "provenance": []
    }
  },
  "cells": [
    {
      "cell_type": "code",
      "metadata": {
        "_cell_guid": "b1076dfc-b9ad-4769-8c92-a6c4dae69d19",
        "_uuid": "8f2839f25d086af736a60e9eeb907d3b93b6e0e5",
        "id": "IbiYoiWP5hH5"
      },
      "source": [
        "import os\n",
        "import numpy as np # linear algebra\n",
        "import pandas as pd # data processing"
      ],
      "execution_count": 1,
      "outputs": []
    },
    {
      "cell_type": "code",
      "metadata": {
        "id": "llAhL6Nj5hH6"
      },
      "source": [
        "import matplotlib.pyplot as plt\n",
        "%matplotlib inline"
      ],
      "execution_count": 2,
      "outputs": []
    },
    {
      "cell_type": "code",
      "metadata": {
        "id": "xF9AEKfL5hH7"
      },
      "source": [
        "url = 'https://raw.githubusercontent.com/nirajpahari/rain_prediction/master/dataset/weatherAUS.csv'"
      ],
      "execution_count": 3,
      "outputs": []
    },
    {
      "cell_type": "code",
      "metadata": {
        "_cell_guid": "79c7e3d0-c299-4dcb-8224-4455121ee9b0",
        "_uuid": "d629ff2d2480ee46fbb7e2d37f6b5fab8052498a",
        "id": "8tmRx-y45hH7"
      },
      "source": [
        "input_df = pd.read_csv(url)"
      ],
      "execution_count": 4,
      "outputs": []
    },
    {
      "cell_type": "code",
      "metadata": {
        "id": "I91tImbd5hH7",
        "outputId": "161b1d9a-8439-4ebf-fd0f-21759c19748c",
        "colab": {
          "base_uri": "https://localhost:8080/",
          "height": 309
        }
      },
      "source": [
        "input_df.head()"
      ],
      "execution_count": 5,
      "outputs": [
        {
          "output_type": "execute_result",
          "data": {
            "text/html": [
              "<div>\n",
              "<style scoped>\n",
              "    .dataframe tbody tr th:only-of-type {\n",
              "        vertical-align: middle;\n",
              "    }\n",
              "\n",
              "    .dataframe tbody tr th {\n",
              "        vertical-align: top;\n",
              "    }\n",
              "\n",
              "    .dataframe thead th {\n",
              "        text-align: right;\n",
              "    }\n",
              "</style>\n",
              "<table border=\"1\" class=\"dataframe\">\n",
              "  <thead>\n",
              "    <tr style=\"text-align: right;\">\n",
              "      <th></th>\n",
              "      <th>Date</th>\n",
              "      <th>Location</th>\n",
              "      <th>MinTemp</th>\n",
              "      <th>MaxTemp</th>\n",
              "      <th>Rainfall</th>\n",
              "      <th>Evaporation</th>\n",
              "      <th>Sunshine</th>\n",
              "      <th>WindGustDir</th>\n",
              "      <th>WindGustSpeed</th>\n",
              "      <th>WindDir9am</th>\n",
              "      <th>WindDir3pm</th>\n",
              "      <th>WindSpeed9am</th>\n",
              "      <th>WindSpeed3pm</th>\n",
              "      <th>Humidity9am</th>\n",
              "      <th>Humidity3pm</th>\n",
              "      <th>Pressure9am</th>\n",
              "      <th>Pressure3pm</th>\n",
              "      <th>Cloud9am</th>\n",
              "      <th>Cloud3pm</th>\n",
              "      <th>Temp9am</th>\n",
              "      <th>Temp3pm</th>\n",
              "      <th>RainToday</th>\n",
              "      <th>RISK_MM</th>\n",
              "      <th>RainTomorrow</th>\n",
              "    </tr>\n",
              "  </thead>\n",
              "  <tbody>\n",
              "    <tr>\n",
              "      <th>0</th>\n",
              "      <td>2008-12-01</td>\n",
              "      <td>Albury</td>\n",
              "      <td>13.4</td>\n",
              "      <td>22.9</td>\n",
              "      <td>0.6</td>\n",
              "      <td>NaN</td>\n",
              "      <td>NaN</td>\n",
              "      <td>W</td>\n",
              "      <td>44.0</td>\n",
              "      <td>W</td>\n",
              "      <td>WNW</td>\n",
              "      <td>20.0</td>\n",
              "      <td>24.0</td>\n",
              "      <td>71.0</td>\n",
              "      <td>22.0</td>\n",
              "      <td>1007.7</td>\n",
              "      <td>1007.1</td>\n",
              "      <td>8.0</td>\n",
              "      <td>NaN</td>\n",
              "      <td>16.9</td>\n",
              "      <td>21.8</td>\n",
              "      <td>No</td>\n",
              "      <td>0.0</td>\n",
              "      <td>No</td>\n",
              "    </tr>\n",
              "    <tr>\n",
              "      <th>1</th>\n",
              "      <td>2008-12-02</td>\n",
              "      <td>Albury</td>\n",
              "      <td>7.4</td>\n",
              "      <td>25.1</td>\n",
              "      <td>0.0</td>\n",
              "      <td>NaN</td>\n",
              "      <td>NaN</td>\n",
              "      <td>WNW</td>\n",
              "      <td>44.0</td>\n",
              "      <td>NNW</td>\n",
              "      <td>WSW</td>\n",
              "      <td>4.0</td>\n",
              "      <td>22.0</td>\n",
              "      <td>44.0</td>\n",
              "      <td>25.0</td>\n",
              "      <td>1010.6</td>\n",
              "      <td>1007.8</td>\n",
              "      <td>NaN</td>\n",
              "      <td>NaN</td>\n",
              "      <td>17.2</td>\n",
              "      <td>24.3</td>\n",
              "      <td>No</td>\n",
              "      <td>0.0</td>\n",
              "      <td>No</td>\n",
              "    </tr>\n",
              "    <tr>\n",
              "      <th>2</th>\n",
              "      <td>2008-12-03</td>\n",
              "      <td>Albury</td>\n",
              "      <td>12.9</td>\n",
              "      <td>25.7</td>\n",
              "      <td>0.0</td>\n",
              "      <td>NaN</td>\n",
              "      <td>NaN</td>\n",
              "      <td>WSW</td>\n",
              "      <td>46.0</td>\n",
              "      <td>W</td>\n",
              "      <td>WSW</td>\n",
              "      <td>19.0</td>\n",
              "      <td>26.0</td>\n",
              "      <td>38.0</td>\n",
              "      <td>30.0</td>\n",
              "      <td>1007.6</td>\n",
              "      <td>1008.7</td>\n",
              "      <td>NaN</td>\n",
              "      <td>2.0</td>\n",
              "      <td>21.0</td>\n",
              "      <td>23.2</td>\n",
              "      <td>No</td>\n",
              "      <td>0.0</td>\n",
              "      <td>No</td>\n",
              "    </tr>\n",
              "    <tr>\n",
              "      <th>3</th>\n",
              "      <td>2008-12-04</td>\n",
              "      <td>Albury</td>\n",
              "      <td>9.2</td>\n",
              "      <td>28.0</td>\n",
              "      <td>0.0</td>\n",
              "      <td>NaN</td>\n",
              "      <td>NaN</td>\n",
              "      <td>NE</td>\n",
              "      <td>24.0</td>\n",
              "      <td>SE</td>\n",
              "      <td>E</td>\n",
              "      <td>11.0</td>\n",
              "      <td>9.0</td>\n",
              "      <td>45.0</td>\n",
              "      <td>16.0</td>\n",
              "      <td>1017.6</td>\n",
              "      <td>1012.8</td>\n",
              "      <td>NaN</td>\n",
              "      <td>NaN</td>\n",
              "      <td>18.1</td>\n",
              "      <td>26.5</td>\n",
              "      <td>No</td>\n",
              "      <td>1.0</td>\n",
              "      <td>No</td>\n",
              "    </tr>\n",
              "    <tr>\n",
              "      <th>4</th>\n",
              "      <td>2008-12-05</td>\n",
              "      <td>Albury</td>\n",
              "      <td>17.5</td>\n",
              "      <td>32.3</td>\n",
              "      <td>1.0</td>\n",
              "      <td>NaN</td>\n",
              "      <td>NaN</td>\n",
              "      <td>W</td>\n",
              "      <td>41.0</td>\n",
              "      <td>ENE</td>\n",
              "      <td>NW</td>\n",
              "      <td>7.0</td>\n",
              "      <td>20.0</td>\n",
              "      <td>82.0</td>\n",
              "      <td>33.0</td>\n",
              "      <td>1010.8</td>\n",
              "      <td>1006.0</td>\n",
              "      <td>7.0</td>\n",
              "      <td>8.0</td>\n",
              "      <td>17.8</td>\n",
              "      <td>29.7</td>\n",
              "      <td>No</td>\n",
              "      <td>0.2</td>\n",
              "      <td>No</td>\n",
              "    </tr>\n",
              "  </tbody>\n",
              "</table>\n",
              "</div>"
            ],
            "text/plain": [
              "         Date Location  MinTemp  ...  RainToday  RISK_MM  RainTomorrow\n",
              "0  2008-12-01   Albury     13.4  ...         No      0.0            No\n",
              "1  2008-12-02   Albury      7.4  ...         No      0.0            No\n",
              "2  2008-12-03   Albury     12.9  ...         No      0.0            No\n",
              "3  2008-12-04   Albury      9.2  ...         No      1.0            No\n",
              "4  2008-12-05   Albury     17.5  ...         No      0.2            No\n",
              "\n",
              "[5 rows x 24 columns]"
            ]
          },
          "metadata": {
            "tags": []
          },
          "execution_count": 5
        }
      ]
    },
    {
      "cell_type": "code",
      "metadata": {
        "id": "jZkh6tQm5hH9",
        "outputId": "1ca6758f-e6ee-4835-8d79-791387446118",
        "colab": {
          "base_uri": "https://localhost:8080/"
        }
      },
      "source": [
        "input_df.info()"
      ],
      "execution_count": 6,
      "outputs": [
        {
          "output_type": "stream",
          "text": [
            "<class 'pandas.core.frame.DataFrame'>\n",
            "RangeIndex: 142193 entries, 0 to 142192\n",
            "Data columns (total 24 columns):\n",
            " #   Column         Non-Null Count   Dtype  \n",
            "---  ------         --------------   -----  \n",
            " 0   Date           142193 non-null  object \n",
            " 1   Location       142193 non-null  object \n",
            " 2   MinTemp        141556 non-null  float64\n",
            " 3   MaxTemp        141871 non-null  float64\n",
            " 4   Rainfall       140787 non-null  float64\n",
            " 5   Evaporation    81350 non-null   float64\n",
            " 6   Sunshine       74377 non-null   float64\n",
            " 7   WindGustDir    132863 non-null  object \n",
            " 8   WindGustSpeed  132923 non-null  float64\n",
            " 9   WindDir9am     132180 non-null  object \n",
            " 10  WindDir3pm     138415 non-null  object \n",
            " 11  WindSpeed9am   140845 non-null  float64\n",
            " 12  WindSpeed3pm   139563 non-null  float64\n",
            " 13  Humidity9am    140419 non-null  float64\n",
            " 14  Humidity3pm    138583 non-null  float64\n",
            " 15  Pressure9am    128179 non-null  float64\n",
            " 16  Pressure3pm    128212 non-null  float64\n",
            " 17  Cloud9am       88536 non-null   float64\n",
            " 18  Cloud3pm       85099 non-null   float64\n",
            " 19  Temp9am        141289 non-null  float64\n",
            " 20  Temp3pm        139467 non-null  float64\n",
            " 21  RainToday      140787 non-null  object \n",
            " 22  RISK_MM        142193 non-null  float64\n",
            " 23  RainTomorrow   142193 non-null  object \n",
            "dtypes: float64(17), object(7)\n",
            "memory usage: 26.0+ MB\n"
          ],
          "name": "stdout"
        }
      ]
    },
    {
      "cell_type": "markdown",
      "metadata": {
        "id": "u3VGEbeB5hH9"
      },
      "source": [
        "## Making column header lowercase"
      ]
    },
    {
      "cell_type": "code",
      "metadata": {
        "id": "mElxK1ki5hH9"
      },
      "source": [
        "input_df.columns = map(str.lower, input_df.columns)"
      ],
      "execution_count": 7,
      "outputs": []
    },
    {
      "cell_type": "markdown",
      "metadata": {
        "id": "8sECv-3B5hH9"
      },
      "source": [
        "Checking the summary of the dataset"
      ]
    },
    {
      "cell_type": "code",
      "metadata": {
        "id": "ePAMtCIm5hH9",
        "outputId": "ae31174f-2978-4085-9ca0-aa6ce19505a5",
        "colab": {
          "base_uri": "https://localhost:8080/",
          "height": 317
        }
      },
      "source": [
        "input_df.describe()"
      ],
      "execution_count": 8,
      "outputs": [
        {
          "output_type": "execute_result",
          "data": {
            "text/html": [
              "<div>\n",
              "<style scoped>\n",
              "    .dataframe tbody tr th:only-of-type {\n",
              "        vertical-align: middle;\n",
              "    }\n",
              "\n",
              "    .dataframe tbody tr th {\n",
              "        vertical-align: top;\n",
              "    }\n",
              "\n",
              "    .dataframe thead th {\n",
              "        text-align: right;\n",
              "    }\n",
              "</style>\n",
              "<table border=\"1\" class=\"dataframe\">\n",
              "  <thead>\n",
              "    <tr style=\"text-align: right;\">\n",
              "      <th></th>\n",
              "      <th>mintemp</th>\n",
              "      <th>maxtemp</th>\n",
              "      <th>rainfall</th>\n",
              "      <th>evaporation</th>\n",
              "      <th>sunshine</th>\n",
              "      <th>windgustspeed</th>\n",
              "      <th>windspeed9am</th>\n",
              "      <th>windspeed3pm</th>\n",
              "      <th>humidity9am</th>\n",
              "      <th>humidity3pm</th>\n",
              "      <th>pressure9am</th>\n",
              "      <th>pressure3pm</th>\n",
              "      <th>cloud9am</th>\n",
              "      <th>cloud3pm</th>\n",
              "      <th>temp9am</th>\n",
              "      <th>temp3pm</th>\n",
              "      <th>risk_mm</th>\n",
              "    </tr>\n",
              "  </thead>\n",
              "  <tbody>\n",
              "    <tr>\n",
              "      <th>count</th>\n",
              "      <td>141556.000000</td>\n",
              "      <td>141871.000000</td>\n",
              "      <td>140787.000000</td>\n",
              "      <td>81350.000000</td>\n",
              "      <td>74377.000000</td>\n",
              "      <td>132923.000000</td>\n",
              "      <td>140845.000000</td>\n",
              "      <td>139563.000000</td>\n",
              "      <td>140419.000000</td>\n",
              "      <td>138583.000000</td>\n",
              "      <td>128179.000000</td>\n",
              "      <td>128212.000000</td>\n",
              "      <td>88536.000000</td>\n",
              "      <td>85099.000000</td>\n",
              "      <td>141289.000000</td>\n",
              "      <td>139467.000000</td>\n",
              "      <td>142193.000000</td>\n",
              "    </tr>\n",
              "    <tr>\n",
              "      <th>mean</th>\n",
              "      <td>12.186400</td>\n",
              "      <td>23.226784</td>\n",
              "      <td>2.349974</td>\n",
              "      <td>5.469824</td>\n",
              "      <td>7.624853</td>\n",
              "      <td>39.984292</td>\n",
              "      <td>14.001988</td>\n",
              "      <td>18.637576</td>\n",
              "      <td>68.843810</td>\n",
              "      <td>51.482606</td>\n",
              "      <td>1017.653758</td>\n",
              "      <td>1015.258204</td>\n",
              "      <td>4.437189</td>\n",
              "      <td>4.503167</td>\n",
              "      <td>16.987509</td>\n",
              "      <td>21.687235</td>\n",
              "      <td>2.360682</td>\n",
              "    </tr>\n",
              "    <tr>\n",
              "      <th>std</th>\n",
              "      <td>6.403283</td>\n",
              "      <td>7.117618</td>\n",
              "      <td>8.465173</td>\n",
              "      <td>4.188537</td>\n",
              "      <td>3.781525</td>\n",
              "      <td>13.588801</td>\n",
              "      <td>8.893337</td>\n",
              "      <td>8.803345</td>\n",
              "      <td>19.051293</td>\n",
              "      <td>20.797772</td>\n",
              "      <td>7.105476</td>\n",
              "      <td>7.036677</td>\n",
              "      <td>2.887016</td>\n",
              "      <td>2.720633</td>\n",
              "      <td>6.492838</td>\n",
              "      <td>6.937594</td>\n",
              "      <td>8.477969</td>\n",
              "    </tr>\n",
              "    <tr>\n",
              "      <th>min</th>\n",
              "      <td>-8.500000</td>\n",
              "      <td>-4.800000</td>\n",
              "      <td>0.000000</td>\n",
              "      <td>0.000000</td>\n",
              "      <td>0.000000</td>\n",
              "      <td>6.000000</td>\n",
              "      <td>0.000000</td>\n",
              "      <td>0.000000</td>\n",
              "      <td>0.000000</td>\n",
              "      <td>0.000000</td>\n",
              "      <td>980.500000</td>\n",
              "      <td>977.100000</td>\n",
              "      <td>0.000000</td>\n",
              "      <td>0.000000</td>\n",
              "      <td>-7.200000</td>\n",
              "      <td>-5.400000</td>\n",
              "      <td>0.000000</td>\n",
              "    </tr>\n",
              "    <tr>\n",
              "      <th>25%</th>\n",
              "      <td>7.600000</td>\n",
              "      <td>17.900000</td>\n",
              "      <td>0.000000</td>\n",
              "      <td>2.600000</td>\n",
              "      <td>4.900000</td>\n",
              "      <td>31.000000</td>\n",
              "      <td>7.000000</td>\n",
              "      <td>13.000000</td>\n",
              "      <td>57.000000</td>\n",
              "      <td>37.000000</td>\n",
              "      <td>1012.900000</td>\n",
              "      <td>1010.400000</td>\n",
              "      <td>1.000000</td>\n",
              "      <td>2.000000</td>\n",
              "      <td>12.300000</td>\n",
              "      <td>16.600000</td>\n",
              "      <td>0.000000</td>\n",
              "    </tr>\n",
              "    <tr>\n",
              "      <th>50%</th>\n",
              "      <td>12.000000</td>\n",
              "      <td>22.600000</td>\n",
              "      <td>0.000000</td>\n",
              "      <td>4.800000</td>\n",
              "      <td>8.500000</td>\n",
              "      <td>39.000000</td>\n",
              "      <td>13.000000</td>\n",
              "      <td>19.000000</td>\n",
              "      <td>70.000000</td>\n",
              "      <td>52.000000</td>\n",
              "      <td>1017.600000</td>\n",
              "      <td>1015.200000</td>\n",
              "      <td>5.000000</td>\n",
              "      <td>5.000000</td>\n",
              "      <td>16.700000</td>\n",
              "      <td>21.100000</td>\n",
              "      <td>0.000000</td>\n",
              "    </tr>\n",
              "    <tr>\n",
              "      <th>75%</th>\n",
              "      <td>16.800000</td>\n",
              "      <td>28.200000</td>\n",
              "      <td>0.800000</td>\n",
              "      <td>7.400000</td>\n",
              "      <td>10.600000</td>\n",
              "      <td>48.000000</td>\n",
              "      <td>19.000000</td>\n",
              "      <td>24.000000</td>\n",
              "      <td>83.000000</td>\n",
              "      <td>66.000000</td>\n",
              "      <td>1022.400000</td>\n",
              "      <td>1020.000000</td>\n",
              "      <td>7.000000</td>\n",
              "      <td>7.000000</td>\n",
              "      <td>21.600000</td>\n",
              "      <td>26.400000</td>\n",
              "      <td>0.800000</td>\n",
              "    </tr>\n",
              "    <tr>\n",
              "      <th>max</th>\n",
              "      <td>33.900000</td>\n",
              "      <td>48.100000</td>\n",
              "      <td>371.000000</td>\n",
              "      <td>145.000000</td>\n",
              "      <td>14.500000</td>\n",
              "      <td>135.000000</td>\n",
              "      <td>130.000000</td>\n",
              "      <td>87.000000</td>\n",
              "      <td>100.000000</td>\n",
              "      <td>100.000000</td>\n",
              "      <td>1041.000000</td>\n",
              "      <td>1039.600000</td>\n",
              "      <td>9.000000</td>\n",
              "      <td>9.000000</td>\n",
              "      <td>40.200000</td>\n",
              "      <td>46.700000</td>\n",
              "      <td>371.000000</td>\n",
              "    </tr>\n",
              "  </tbody>\n",
              "</table>\n",
              "</div>"
            ],
            "text/plain": [
              "             mintemp        maxtemp  ...        temp3pm        risk_mm\n",
              "count  141556.000000  141871.000000  ...  139467.000000  142193.000000\n",
              "mean       12.186400      23.226784  ...      21.687235       2.360682\n",
              "std         6.403283       7.117618  ...       6.937594       8.477969\n",
              "min        -8.500000      -4.800000  ...      -5.400000       0.000000\n",
              "25%         7.600000      17.900000  ...      16.600000       0.000000\n",
              "50%        12.000000      22.600000  ...      21.100000       0.000000\n",
              "75%        16.800000      28.200000  ...      26.400000       0.800000\n",
              "max        33.900000      48.100000  ...      46.700000     371.000000\n",
              "\n",
              "[8 rows x 17 columns]"
            ]
          },
          "metadata": {
            "tags": []
          },
          "execution_count": 8
        }
      ]
    },
    {
      "cell_type": "markdown",
      "metadata": {
        "id": "C5xFI-No5hH-"
      },
      "source": [
        "Using matplotlib to plot a histogram for each numerical attribute"
      ]
    },
    {
      "cell_type": "code",
      "metadata": {
        "id": "cKyMLOQh5hH-",
        "outputId": "b6b3abad-642f-4748-f690-3ca4aceafaff"
      },
      "source": [
        "input_df.hist(bins=50, figsize=(20,15))"
      ],
      "execution_count": null,
      "outputs": [
        {
          "output_type": "execute_result",
          "data": {
            "text/plain": [
              "array([[<matplotlib.axes._subplots.AxesSubplot object at 0x7f05e5029ed0>,\n",
              "        <matplotlib.axes._subplots.AxesSubplot object at 0x7f05e47e7b90>,\n",
              "        <matplotlib.axes._subplots.AxesSubplot object at 0x7f05e47a2ed0>,\n",
              "        <matplotlib.axes._subplots.AxesSubplot object at 0x7f05e47d4b90>],\n",
              "       [<matplotlib.axes._subplots.AxesSubplot object at 0x7f05e478ff10>,\n",
              "        <matplotlib.axes._subplots.AxesSubplot object at 0x7f05e473ebd0>,\n",
              "        <matplotlib.axes._subplots.AxesSubplot object at 0x7f05e46fa410>,\n",
              "        <matplotlib.axes._subplots.AxesSubplot object at 0x7f05e46afc10>],\n",
              "       [<matplotlib.axes._subplots.AxesSubplot object at 0x7f05e46b9790>,\n",
              "        <matplotlib.axes._subplots.AxesSubplot object at 0x7f05e467b150>,\n",
              "        <matplotlib.axes._subplots.AxesSubplot object at 0x7f05e45e4fd0>,\n",
              "        <matplotlib.axes._subplots.AxesSubplot object at 0x7f05e4618c90>],\n",
              "       [<matplotlib.axes._subplots.AxesSubplot object at 0x7f05e45d74d0>,\n",
              "        <matplotlib.axes._subplots.AxesSubplot object at 0x7f05e458dcd0>,\n",
              "        <matplotlib.axes._subplots.AxesSubplot object at 0x7f05e454c510>,\n",
              "        <matplotlib.axes._subplots.AxesSubplot object at 0x7f05e4500c90>],\n",
              "       [<matplotlib.axes._subplots.AxesSubplot object at 0x7f05e44bf4d0>,\n",
              "        <matplotlib.axes._subplots.AxesSubplot object at 0x7f05e4474cd0>,\n",
              "        <matplotlib.axes._subplots.AxesSubplot object at 0x7f05e4435510>,\n",
              "        <matplotlib.axes._subplots.AxesSubplot object at 0x7f05e43e8d10>]],\n",
              "      dtype=object)"
            ]
          },
          "metadata": {
            "tags": []
          },
          "execution_count": 13
        },
        {
          "output_type": "display_data",
          "data": {
            "image/png": "[encoded data removed]",
            "text/plain": [
              "<Figure size 1440x1080 with 20 Axes>"
            ]
          },
          "metadata": {
            "tags": [],
            "needs_background": "light"
          }
        }
      ]
    },
    {
      "cell_type": "markdown",
      "metadata": {
        "id": "b0aXzsFI5hH-"
      },
      "source": [
        "Points noted till now:\n",
        "- rainfall, evaporation, windgustspeed, windspped9am, windspeed3pm, riskmm are tail heavy so need to be transformed to have more bell shaped distributions\n",
        "- The attributes have different scales -> feature scaling"
      ]
    },
    {
      "cell_type": "markdown",
      "metadata": {
        "id": "CB-6nK-d5hH-"
      },
      "source": [
        "Now lets look at all the data that are of type object just to get the understanding."
      ]
    },
    {
      "cell_type": "code",
      "metadata": {
        "id": "eCG1pvt45hH-",
        "outputId": "b466867b-3738-4d2f-9ec6-6c3976af203f"
      },
      "source": [
        "input_df[\"location\"].value_counts()"
      ],
      "execution_count": null,
      "outputs": [
        {
          "output_type": "execute_result",
          "data": {
            "text/plain": [
              "Canberra            3418\n",
              "Sydney              3337\n",
              "Perth               3193\n",
              "Darwin              3192\n",
              "Hobart              3188\n",
              "Brisbane            3161\n",
              "Adelaide            3090\n",
              "Bendigo             3034\n",
              "Townsville          3033\n",
              "AliceSprings        3031\n",
              "MountGambier        3030\n",
              "Ballarat            3028\n",
              "Launceston          3028\n",
              "Albany              3016\n",
              "Albury              3011\n",
              "MelbourneAirport    3009\n",
              "PerthAirport        3009\n",
              "Mildura             3007\n",
              "SydneyAirport       3005\n",
              "Nuriootpa           3002\n",
              "Sale                3000\n",
              "Watsonia            2999\n",
              "Tuggeranong         2998\n",
              "Portland            2996\n",
              "Woomera             2990\n",
              "Cairns              2988\n",
              "Cobar               2988\n",
              "Wollongong          2983\n",
              "GoldCoast           2980\n",
              "WaggaWagga          2976\n",
              "Penrith             2964\n",
              "NorfolkIsland       2964\n",
              "SalmonGums          2955\n",
              "Newcastle           2955\n",
              "CoffsHarbour        2953\n",
              "Witchcliffe         2952\n",
              "Richmond            2951\n",
              "Dartmoor            2943\n",
              "NorahHead           2929\n",
              "BadgerysCreek       2928\n",
              "MountGinini         2907\n",
              "Moree               2854\n",
              "Walpole             2819\n",
              "PearceRAAF          2762\n",
              "Williamtown         2553\n",
              "Melbourne           2435\n",
              "Nhil                1569\n",
              "Katherine           1559\n",
              "Uluru               1521\n",
              "Name: location, dtype: int64"
            ]
          },
          "metadata": {
            "tags": []
          },
          "execution_count": 14
        }
      ]
    },
    {
      "cell_type": "code",
      "metadata": {
        "id": "NQ3VMXFn5hH_"
      },
      "source": [
        "input_df['windgustdir'].value_counts()"
      ],
      "execution_count": null,
      "outputs": []
    },
    {
      "cell_type": "code",
      "metadata": {
        "id": "a12WkKTh5hH_"
      },
      "source": [
        "input_df['winddir9am'].value_counts()"
      ],
      "execution_count": null,
      "outputs": []
    },
    {
      "cell_type": "code",
      "metadata": {
        "id": "rMMW-HSL5hH_"
      },
      "source": [
        "input_df['winddir3pm'].value_counts()"
      ],
      "execution_count": null,
      "outputs": []
    },
    {
      "cell_type": "code",
      "metadata": {
        "id": "TmjxxPYi5hH_"
      },
      "source": [
        "input_df['raintoday'].value_counts()"
      ],
      "execution_count": null,
      "outputs": []
    },
    {
      "cell_type": "code",
      "metadata": {
        "id": "PXQSYGJC5hH_"
      },
      "source": [
        "input_df['raintomorrow'].value_counts()"
      ],
      "execution_count": null,
      "outputs": []
    },
    {
      "cell_type": "markdown",
      "metadata": {
        "id": "QPXS0wUs5hH_"
      },
      "source": [
        "In this problem we are going to predict the feature raintomorrow.\n",
        "We can clearly see that this dataset is not balanced.\n",
        "Lets plot the graph too to see the imbalance nature of the dataset."
      ]
    },
    {
      "cell_type": "code",
      "metadata": {
        "id": "oQZ0p2cV5hH_",
        "outputId": "f00092b6-008d-4d9d-b9ef-4e86292ed873"
      },
      "source": [
        "input_df.raintomorrow.value_counts(normalize=True).plot(kind='bar', color=['red', 'blue'])"
      ],
      "execution_count": null,
      "outputs": [
        {
          "output_type": "execute_result",
          "data": {
            "text/plain": [
              "<matplotlib.axes._subplots.AxesSubplot at 0x7f05e35de690>"
            ]
          },
          "metadata": {
            "tags": []
          },
          "execution_count": 15
        },
        {
          "output_type": "display_data",
          "data": {
            "image/png": "[encoded data removed]",
            "text/plain": [
              "<Figure size 432x288 with 1 Axes>"
            ]
          },
          "metadata": {
            "tags": [],
            "needs_background": "light"
          }
        }
      ]
    },
    {
      "cell_type": "markdown",
      "metadata": {
        "id": "kxhKBl5u5hH_"
      },
      "source": [
        "## Train Test split\n",
        "Lets convert our target column raintomorrow and another column raintoday from yes, no to 1, 0"
      ]
    },
    {
      "cell_type": "code",
      "metadata": {
        "id": "IM8mFjEL5hH_"
      },
      "source": [
        "input_df['raintoday'] = input_df['raintoday'].map({\"Yes\":1, \"No\": 0})\n",
        "input_df['raintomorrow'] = input_df['raintomorrow'].map({\"Yes\":1, \"No\": 0})"
      ],
      "execution_count": 9,
      "outputs": []
    },
    {
      "cell_type": "markdown",
      "metadata": {
        "id": "L-5JdO6M5hH_"
      },
      "source": [
        "Lets split the data set to train and test set before we handle the imbalance dataset.\n",
        "We will prepare X Y data first.\n",
        "Since we are going to predict whether it is going to rain or not tomorrow, we set raintomorrow as Y and everything else as X\n"
      ]
    },
    {
      "cell_type": "code",
      "metadata": {
        "id": "zFWUuV3K5hH_",
        "outputId": "c295f808-1306-4e13-e8c2-c4dbcd5c5d8e",
        "colab": {
          "base_uri": "https://localhost:8080/"
        }
      },
      "source": [
        "input_df.raintomorrow.value_counts()"
      ],
      "execution_count": 12,
      "outputs": [
        {
          "output_type": "execute_result",
          "data": {
            "text/plain": [
              "0    110316\n",
              "1     31877\n",
              "Name: raintomorrow, dtype: int64"
            ]
          },
          "metadata": {
            "tags": []
          },
          "execution_count": 12
        }
      ]
    },
    {
      "cell_type": "code",
      "metadata": {
        "id": "m0kduOaJ5hIA"
      },
      "source": [
        "from sklearn.model_selection import StratifiedShuffleSplit\n",
        "\n",
        "split = StratifiedShuffleSplit(n_splits=1, test_size=0.2, random_state=42)\n",
        "for train_index, test_index in split.split(input_df, input_df['raintomorrow']):\n",
        "    strat_train_set = input_df.loc[train_index]\n",
        "    strat_test_set = input_df.loc[test_index]\n",
        "    "
      ],
      "execution_count": 15,
      "outputs": []
    },
    {
      "cell_type": "code",
      "metadata": {
        "id": "KhfXi9eZ5hIA",
        "outputId": "bf690bef-2fc8-4004-93de-1a003bf0bcfd",
        "colab": {
          "base_uri": "https://localhost:8080/"
        }
      },
      "source": [
        "print(strat_train_set.raintomorrow.value_counts())\n",
        "print(strat_train_set.raintomorrow.value_counts()/len(strat_train_set))\n",
        "print(\"-----------------------\")\n",
        "print(strat_test_set.raintomorrow.value_counts()/len(strat_test_set))\n",
        "print(strat_test_set.raintomorrow.value_counts())"
      ],
      "execution_count": 16,
      "outputs": [
        {
          "output_type": "stream",
          "text": [
            "0    88252\n",
            "1    25502\n",
            "Name: raintomorrow, dtype: int64\n",
            "0    0.775814\n",
            "1    0.224186\n",
            "Name: raintomorrow, dtype: float64\n",
            "-----------------------\n",
            "0    0.775836\n",
            "1    0.224164\n",
            "Name: raintomorrow, dtype: float64\n",
            "0    22064\n",
            "1     6375\n",
            "Name: raintomorrow, dtype: int64\n"
          ],
          "name": "stdout"
        }
      ]
    },
    {
      "cell_type": "markdown",
      "metadata": {
        "id": "NfYOPcjG5hIA"
      },
      "source": [
        "We want to handle the imbalanced dataset here:\n",
        "According to this [link](https://www.kdnuggets.com/2020/01/5-most-useful-techniques-handle-imbalanced-datasets.html),\n",
        "4 most useful techniques are:\n",
        "- random undersampling and oversampling\n",
        "- undersampling and oversampling using imbalanced learn\n",
        "- class weights in the models\n",
        "- changing teh evaluation metric\n",
        "\n",
        "And according to this [link](https://elitedatascience.com/imbalanced-classes)\n",
        "- upsample minority class\n",
        "- down sample majority class\n",
        "- change the performance metric\n",
        "- penalize algorithms\n",
        "- use tree based algorithms\n",
        "\n",
        "And according to this website [machinelearningmastery](https://machinelearningmastery.com/tactics-to-combat-imbalanced-classes-in-your-machine-learning-dataset/), the author provides 8 tactics to combat imbalanced training data\n",
        "1. Collect more data if possible\n",
        "2. Try changing Performance Metric\n",
        "   > Confusion Matrix\n",
        "   > Precision\n",
        "   > Recall\n",
        "   > F1 Score (or F-score)\n",
        "   Further advice to look at:\n",
        "   > Kappa(or Cohen's kappa)\n",
        "   > ROC Curves\n",
        "3. Try resampling the dataset\n",
        "4. Try generate synthetic samples\n",
        "5. Try different Algorithms\n",
        "    > decision trees often perform well on imbalanced datasets\n",
        "6. Try Penalized Models\n",
        "7. Try Different Perspective\n",
        "    > anomaly detection and change detection"
      ]
    },
    {
      "cell_type": "markdown",
      "metadata": {
        "id": "-iIN_RR35hIA"
      },
      "source": [
        "Since there are multiple methods we use few methods among them and evaluate the models"
      ]
    },
    {
      "cell_type": "markdown",
      "metadata": {
        "id": "3_Nt2AYQ5hIA"
      },
      "source": [
        "## Test1: Upsampling minority class"
      ]
    },
    {
      "cell_type": "code",
      "metadata": {
        "id": "pcrBiLtP5hIA"
      },
      "source": [
        "from sklearn.utils import resample"
      ],
      "execution_count": 19,
      "outputs": []
    },
    {
      "cell_type": "code",
      "metadata": {
        "id": "vfdKOii05hIA"
      },
      "source": [
        "df_majority = strat_train_set[strat_train_set.raintomorrow==0]"
      ],
      "execution_count": 20,
      "outputs": []
    },
    {
      "cell_type": "markdown",
      "metadata": {
        "id": "NW-w08TU5hIA"
      },
      "source": [
        "Upsample"
      ]
    },
    {
      "cell_type": "code",
      "metadata": {
        "id": "8PSG76z75hIA",
        "outputId": "0b6f9cd5-384d-4ee2-9060-a232461af374",
        "colab": {
          "base_uri": "https://localhost:8080/"
        }
      },
      "source": [
        "df_minority_upsampled = resample(df_minority, replace=True, n_samples=88252, random_state=42)\n",
        "\n",
        "df_upsampled = pd.concat([df_majority, df_minority_upsampled])\n",
        "\n",
        "df_upsampled.raintomorrow.value_counts()"
      ],
      "execution_count": 21,
      "outputs": [
        {
          "output_type": "execute_result",
          "data": {
            "text/plain": [
              "1    88252\n",
              "0    88252\n",
              "Name: raintomorrow, dtype: int64"
            ]
          },
          "metadata": {
            "tags": []
          },
          "execution_count": 21
        }
      ]
    },
    {
      "cell_type": "markdown",
      "metadata": {
        "id": "sWwbVGOg5hIB"
      },
      "source": [
        "## Checking Correlation"
      ]
    },
    {
      "cell_type": "code",
      "metadata": {
        "id": "fC2g86Dq5hIB"
      },
      "source": [
        "corr_matrix_up = df_upsampled.corr()"
      ],
      "execution_count": 24,
      "outputs": []
    },
    {
      "cell_type": "code",
      "metadata": {
        "id": "KSbdrFJL5hIB",
        "outputId": "1f7e5b3c-3c4b-4949-d961-503e74429e46",
        "colab": {
          "base_uri": "https://localhost:8080/"
        }
      },
      "source": [
        "corr_matrix_up['raintomorrow'].sort_values(ascending=False)"
      ],
      "execution_count": 25,
      "outputs": [
        {
          "output_type": "execute_result",
          "data": {
            "text/plain": [
              "raintomorrow     1.000000\n",
              "humidity3pm      0.510631\n",
              "cloud3pm         0.465996\n",
              "risk_mm          0.417748\n",
              "cloud9am         0.389684\n",
              "raintoday        0.340510\n",
              "humidity9am      0.316783\n",
              "windgustspeed    0.261385\n",
              "rainfall         0.218227\n",
              "windspeed9am     0.110441\n",
              "mintemp          0.101771\n",
              "windspeed3pm     0.101164\n",
              "temp9am         -0.030197\n",
              "evaporation     -0.155123\n",
              "maxtemp         -0.191586\n",
              "temp3pm         -0.231497\n",
              "pressure3pm     -0.263483\n",
              "pressure9am     -0.287344\n",
              "sunshine        -0.517150\n",
              "Name: raintomorrow, dtype: float64"
            ]
          },
          "metadata": {
            "tags": []
          },
          "execution_count": 25
        }
      ]
    },
    {
      "cell_type": "markdown",
      "metadata": {
        "id": "vOS2co515hIB"
      },
      "source": [
        "## Preparing the data for ML Algorithms"
      ]
    },
    {
      "cell_type": "markdown",
      "metadata": {
        "id": "VwVgAR8s5hIB"
      },
      "source": [
        "we will create X and y data for input features and output feature respectively for each sampled data"
      ]
    },
    {
      "cell_type": "code",
      "metadata": {
        "id": "XteDo3FY5hIB"
      },
      "source": [
        "up_X = df_upsampled.drop(\"raintomorrow\", axis=1)\n",
        "up_y = df_upsampled[\"raintomorrow\"].copy()\n",
        "\n",
        "test_X = strat_test_set.drop(\"raintomorrow\", axis=1)\n",
        "test_y = strat_test_set[\"raintomorrow\"].copy()\n"
      ],
      "execution_count": 26,
      "outputs": []
    },
    {
      "cell_type": "markdown",
      "metadata": {
        "id": "BLRGbgS65hIB"
      },
      "source": [
        "## Data Cleaning\n",
        "we will use SimpleImputer from scikit-learn to replace each attribute's missing values with the median of that attribute"
      ]
    },
    {
      "cell_type": "code",
      "metadata": {
        "id": "J6MgKfrT5hIB"
      },
      "source": [
        "from sklearn.impute import SimpleImputer\n",
        "\n",
        "imputer_up = SimpleImputer(strategy=\"mean\")"
      ],
      "execution_count": 27,
      "outputs": []
    },
    {
      "cell_type": "markdown",
      "metadata": {
        "id": "8Au6j3r35hIB"
      },
      "source": [
        "Since mean can only be computed on numerical attributes, we need to create a copy of data without object type."
      ]
    },
    {
      "cell_type": "code",
      "metadata": {
        "id": "6ltln0l25hIB"
      },
      "source": [
        "up_X_num = up_X.drop([\"date\", \"location\", \"windgustdir\", \"winddir9am\", \"winddir3pm\", \"raintoday\"], axis=1)\n",
        "\n",
        "up_X_cat = up_X[[\"date\", \"location\", \"windgustdir\", \"winddir9am\", \"winddir3pm\", \"raintoday\"]].copy()\n"
      ],
      "execution_count": 28,
      "outputs": []
    },
    {
      "cell_type": "markdown",
      "metadata": {
        "id": "w7PGqGWU5hIB"
      },
      "source": [
        "Now we will fit the imputer instance to both the upsampled and downsampled data"
      ]
    },
    {
      "cell_type": "code",
      "metadata": {
        "id": "qc2AmXV75hIB",
        "outputId": "bb8c720a-764d-4725-88f4-171676a7b4b9",
        "colab": {
          "base_uri": "https://localhost:8080/"
        }
      },
      "source": [
        "imputer_up.fit(up_X_num)"
      ],
      "execution_count": 29,
      "outputs": [
        {
          "output_type": "execute_result",
          "data": {
            "text/plain": [
              "SimpleImputer(add_indicator=False, copy=True, fill_value=None,\n",
              "              missing_values=nan, strategy='mean', verbose=0)"
            ]
          },
          "metadata": {
            "tags": []
          },
          "execution_count": 29
        }
      ]
    },
    {
      "cell_type": "code",
      "metadata": {
        "id": "jWILZVgu5hIB",
        "outputId": "def7eb70-3218-485f-ec33-f8b7016473c5",
        "colab": {
          "base_uri": "https://localhost:8080/"
        }
      },
      "source": [
        "print(up_X_num.median().values)"
      ],
      "execution_count": 30,
      "outputs": [
        {
          "output_type": "stream",
          "text": [
            "[  12.2    21.8     0.      4.4     6.8    39.     13.     19.     74.\n",
            "   58.   1016.5  1014.2     6.      6.     16.5    20.1     1.05]\n"
          ],
          "name": "stdout"
        }
      ]
    },
    {
      "cell_type": "markdown",
      "metadata": {
        "id": "XFrqS4gg5hIB"
      },
      "source": [
        "Now we will use the trained imputer to transform the training set by replacing missing values with the learned medians"
      ]
    },
    {
      "cell_type": "code",
      "metadata": {
        "id": "FxB_zrQF5hIB"
      },
      "source": [
        "X_num_temp_up = imputer_up.transform(up_X_num)"
      ],
      "execution_count": 31,
      "outputs": []
    },
    {
      "cell_type": "markdown",
      "metadata": {
        "id": "NOCDLlel5hIB"
      },
      "source": [
        "Since the results are plain Numpy array, we will create DF for the transformed data.\n"
      ]
    },
    {
      "cell_type": "code",
      "metadata": {
        "id": "KX6DHDml5hIB"
      },
      "source": [
        "up_X_num_tr = pd.DataFrame(X_num_temp_up, columns=up_X_num.columns, index=up_X_num.index)"
      ],
      "execution_count": 32,
      "outputs": []
    },
    {
      "cell_type": "code",
      "metadata": {
        "id": "MN5kLgZP5hIB",
        "outputId": "3594d221-84d1-4002-8357-338cbe4270b9",
        "colab": {
          "base_uri": "https://localhost:8080/"
        }
      },
      "source": [
        "up_X_num_tr.info()"
      ],
      "execution_count": 33,
      "outputs": [
        {
          "output_type": "stream",
          "text": [
            "<class 'pandas.core.frame.DataFrame'>\n",
            "Int64Index: 176504 entries, 101064 to 123940\n",
            "Data columns (total 17 columns):\n",
            " #   Column         Non-Null Count   Dtype  \n",
            "---  ------         --------------   -----  \n",
            " 0   mintemp        176504 non-null  float64\n",
            " 1   maxtemp        176504 non-null  float64\n",
            " 2   rainfall       176504 non-null  float64\n",
            " 3   evaporation    176504 non-null  float64\n",
            " 4   sunshine       176504 non-null  float64\n",
            " 5   windgustspeed  176504 non-null  float64\n",
            " 6   windspeed9am   176504 non-null  float64\n",
            " 7   windspeed3pm   176504 non-null  float64\n",
            " 8   humidity9am    176504 non-null  float64\n",
            " 9   humidity3pm    176504 non-null  float64\n",
            " 10  pressure9am    176504 non-null  float64\n",
            " 11  pressure3pm    176504 non-null  float64\n",
            " 12  cloud9am       176504 non-null  float64\n",
            " 13  cloud3pm       176504 non-null  float64\n",
            " 14  temp9am        176504 non-null  float64\n",
            " 15  temp3pm        176504 non-null  float64\n",
            " 16  risk_mm        176504 non-null  float64\n",
            "dtypes: float64(17)\n",
            "memory usage: 24.2 MB\n"
          ],
          "name": "stdout"
        }
      ]
    },
    {
      "cell_type": "markdown",
      "metadata": {
        "id": "bd4jrHHB5hIB"
      },
      "source": [
        "## Feature Scaling\n",
        "According to the book (Hands on machine learning with scikit-learn, keras and tensorflow) there are two common ways to get all attribues to have the same scale: \n",
        "i) min-max scaling\n",
        "ii) standardization\n",
        "\n",
        "since min max scaling is more affected by outliers we will use standardization here.\n",
        "We will use StandardScaler provided by scikit-learn\n"
      ]
    },
    {
      "cell_type": "code",
      "metadata": {
        "id": "6tpHB5F45hIB"
      },
      "source": [
        "from sklearn.preprocessing import StandardScaler"
      ],
      "execution_count": 34,
      "outputs": []
    },
    {
      "cell_type": "code",
      "metadata": {
        "id": "OpcT7K5J5hIC"
      },
      "source": [
        "feat_scal_transformer = StandardScaler()\n",
        "\n",
        "temp1 = feat_scal_transformer.fit_transform(up_X_num_tr)"
      ],
      "execution_count": 35,
      "outputs": []
    },
    {
      "cell_type": "code",
      "metadata": {
        "id": "tS9dwhsM5hIC",
        "outputId": "203c0bcf-0fba-4001-c2bb-cea653953628",
        "colab": {
          "base_uri": "https://localhost:8080/"
        }
      },
      "source": [
        "temp1"
      ],
      "execution_count": 36,
      "outputs": [
        {
          "output_type": "execute_result",
          "data": {
            "text/plain": [
              "array([[ 1.06004776e+00,  1.73518587e+00, -3.33980614e-01, ...,\n",
              "         1.15401676e+00,  1.86451797e+00, -4.23896472e-01],\n",
              "       [-5.56965356e-16,  0.00000000e+00, -3.15966799e-01, ...,\n",
              "         0.00000000e+00,  5.17239912e-16, -4.23896472e-01],\n",
              "       [ 7.23853485e-02,  1.31134151e-01, -3.33980614e-01, ...,\n",
              "        -7.40429872e-02,  3.35822005e-01, -4.23896472e-01],\n",
              "       ...,\n",
              "       [ 5.89732324e-01, -2.36427694e-02,  1.16364772e-01, ...,\n",
              "         3.47724336e-02,  1.75672904e-01,  9.00770499e-01],\n",
              "       [-1.66778175e+00, -7.97527373e-01, -3.15966799e-01, ...,\n",
              "        -1.98608538e+00, -6.54190621e-01, -1.29526034e-01],\n",
              "       [ 4.64314875e-01, -3.05055352e-01, -3.33980614e-01, ...,\n",
              "         2.21313155e-01, -6.54190621e-01, -2.93065166e-01]])"
            ]
          },
          "metadata": {
            "tags": []
          },
          "execution_count": 36
        }
      ]
    },
    {
      "cell_type": "markdown",
      "metadata": {
        "id": "NwHxsLsh5hIC"
      },
      "source": [
        "## Handling missing values in categorical attributes\n",
        "\n",
        "According to this [Link](https://medium.com/analytics-vidhya/ways-to-handle-categorical-column-missing-data-its-implementations-15dc4a56893), there are 3 ways to handle categorical data:\n",
        "1. Frequent Categorical Imputation\n",
        "> Here NaN values are replaced with the most frequent occured category in the column.\n",
        "2. Adding a variable to capture NaN\n",
        "> Here NaN is again replaced by most occuring value and a new feature added to introduce some weight to non imputed and imputed observations\n",
        "3. Create a New Category for NaN Values\n",
        "> here a new category is created for NaN values and added to all NaN values\n"
      ]
    },
    {
      "cell_type": "markdown",
      "metadata": {
        "id": "oLZaVdiO5hIC"
      },
      "source": [
        "Lets check the amount of NaN values to decide which method to use."
      ]
    },
    {
      "cell_type": "code",
      "metadata": {
        "id": "CbODWDME5hIC",
        "outputId": "690a6953-51b3-4bae-bd6c-a1ebcdd34a12",
        "colab": {
          "base_uri": "https://localhost:8080/"
        }
      },
      "source": [
        "up_X_cat.isnull().sum()"
      ],
      "execution_count": 37,
      "outputs": [
        {
          "output_type": "execute_result",
          "data": {
            "text/plain": [
              "date               0\n",
              "location           0\n",
              "windgustdir    12278\n",
              "winddir9am     11754\n",
              "winddir3pm      5167\n",
              "raintoday       2398\n",
              "dtype: int64"
            ]
          },
          "metadata": {
            "tags": []
          },
          "execution_count": 37
        }
      ]
    },
    {
      "cell_type": "code",
      "metadata": {
        "id": "hTXWojJm5hIC",
        "outputId": "6857132a-4fa3-435f-9ea8-e00f85e5fff5",
        "colab": {
          "base_uri": "https://localhost:8080/"
        }
      },
      "source": [
        "list(up_X_cat.columns)"
      ],
      "execution_count": 38,
      "outputs": [
        {
          "output_type": "execute_result",
          "data": {
            "text/plain": [
              "['date', 'location', 'windgustdir', 'winddir9am', 'winddir3pm', 'raintoday']"
            ]
          },
          "metadata": {
            "tags": []
          },
          "execution_count": 38
        }
      ]
    },
    {
      "cell_type": "markdown",
      "metadata": {
        "id": "V0E6Cn7q5hIC"
      },
      "source": [
        "Since we have 176504 total data and a column with highest NaN value is 12278 ie around 6% so we use the third method ie we will add unknown as the value for all NaN values."
      ]
    },
    {
      "cell_type": "code",
      "metadata": {
        "id": "Kae3kn185hIC"
      },
      "source": [
        "from sklearn.impute import SimpleImputer\n",
        "\n",
        "add_unknown_imputer = SimpleImputer(strategy=\"constant\", fill_value=\"Unknown\")\n"
      ],
      "execution_count": 40,
      "outputs": []
    },
    {
      "cell_type": "code",
      "metadata": {
        "id": "zn4iYTpJ5hIC"
      },
      "source": [
        "temp = add_unknown_imputer.fit_transform(up_X_cat)"
      ],
      "execution_count": 42,
      "outputs": []
    },
    {
      "cell_type": "code",
      "metadata": {
        "id": "rWH60dMg5hIC",
        "outputId": "47ccf0af-47b3-4a8a-82fc-3c19252c0b67",
        "colab": {
          "base_uri": "https://localhost:8080/"
        }
      },
      "source": [
        "temp"
      ],
      "execution_count": 43,
      "outputs": [
        {
          "output_type": "execute_result",
          "data": {
            "text/plain": [
              "array([['2012-01-25', 'Nuriootpa', 'SE', 'ESE', 'SSE', 0.0],\n",
              "       ['2010-08-06', 'NorahHead', 'S', 'W', 'S', 0.0],\n",
              "       ['2016-11-30', 'Adelaide', 'WSW', 'NW', 'SW', 0.0],\n",
              "       ...,\n",
              "       ['2016-04-26', 'SalmonGums', 'W', 'NNW', 'WNW', 1.0],\n",
              "       ['2011-08-14', 'Dartmoor', 'N', 'Unknown', 'NNW', 0.0],\n",
              "       ['2009-03-28', 'Walpole', 'SSE', 'WSW', 'SSE', 0.0]], dtype=object)"
            ]
          },
          "metadata": {
            "tags": []
          },
          "execution_count": 43
        }
      ]
    },
    {
      "cell_type": "markdown",
      "metadata": {
        "id": "r-7Rpxir5hIC"
      },
      "source": [
        "## Transforming date to month only"
      ]
    },
    {
      "cell_type": "code",
      "metadata": {
        "id": "Q8iOVWsA9tLp"
      },
      "source": [
        "from sklearn.base import BaseEstimator, TransformerMixin"
      ],
      "execution_count": 52,
      "outputs": []
    },
    {
      "cell_type": "code",
      "metadata": {
        "id": "gdgKsIzA9wBl"
      },
      "source": [
        "class DateToMonthOnlyTransformer(BaseEstimator, TransformerMixin):\n",
        "    def __init__(self):\n",
        "        pass\n",
        "    def fit(self, X, y=None):\n",
        "        return self\n",
        "    \n",
        "    def get_month( self, obj ):\n",
        "        return str(obj)[5:7]\n",
        "    \n",
        "    def transform(self, X,y=None):\n",
        "        print(X)\n",
        "        print(\"-------------------\")\n",
        "        X = X.apply(self.get_month)\n",
        "        print(X)\n",
        "        return np.array(X.values.tolist())"
      ],
      "execution_count": 53,
      "outputs": []
    },
    {
      "cell_type": "code",
      "metadata": {
        "id": "o4eyHnHt5hIC",
        "outputId": "0a546d7c-d83d-4c37-d5f0-6ef3cc02640f",
        "colab": {
          "base_uri": "https://localhost:8080/"
        }
      },
      "source": [
        "dtm_only_trans = DateToMonthOnlyTransformer()\n",
        "temp_dtm_trans = dtm_only_trans.fit_transform(up_X_cat.date)"
      ],
      "execution_count": 54,
      "outputs": [
        {
          "output_type": "stream",
          "text": [
            "101064    2012-01-25\n",
            "18241     2010-08-06\n",
            "96741     2016-11-30\n",
            "83246     2012-11-12\n",
            "86799     2014-06-28\n",
            "             ...    \n",
            "88296     2010-03-02\n",
            "106804    2011-03-17\n",
            "123432    2016-04-26\n",
            "79613     2011-08-14\n",
            "123940    2009-03-28\n",
            "Name: date, Length: 176504, dtype: object\n",
            "-------------------\n",
            "101064    01\n",
            "18241     08\n",
            "96741     11\n",
            "83246     11\n",
            "86799     06\n",
            "          ..\n",
            "88296     03\n",
            "106804    03\n",
            "123432    04\n",
            "79613     08\n",
            "123940    03\n",
            "Name: date, Length: 176504, dtype: object\n"
          ],
          "name": "stdout"
        }
      ]
    },
    {
      "cell_type": "markdown",
      "metadata": {
        "id": "2N8yptTt5hIC"
      },
      "source": [
        "## Handling text and categorical attributes"
      ]
    },
    {
      "cell_type": "code",
      "metadata": {
        "id": "-DqKu_RJ5hIC",
        "outputId": "27fcf0e4-cb82-445a-b71a-762fca344b57",
        "colab": {
          "base_uri": "https://localhost:8080/",
          "height": 359
        }
      },
      "source": [
        "up_X_cat.head(10)"
      ],
      "execution_count": 44,
      "outputs": [
        {
          "output_type": "execute_result",
          "data": {
            "text/html": [
              "<div>\n",
              "<style scoped>\n",
              "    .dataframe tbody tr th:only-of-type {\n",
              "        vertical-align: middle;\n",
              "    }\n",
              "\n",
              "    .dataframe tbody tr th {\n",
              "        vertical-align: top;\n",
              "    }\n",
              "\n",
              "    .dataframe thead th {\n",
              "        text-align: right;\n",
              "    }\n",
              "</style>\n",
              "<table border=\"1\" class=\"dataframe\">\n",
              "  <thead>\n",
              "    <tr style=\"text-align: right;\">\n",
              "      <th></th>\n",
              "      <th>date</th>\n",
              "      <th>location</th>\n",
              "      <th>windgustdir</th>\n",
              "      <th>winddir9am</th>\n",
              "      <th>winddir3pm</th>\n",
              "      <th>raintoday</th>\n",
              "    </tr>\n",
              "  </thead>\n",
              "  <tbody>\n",
              "    <tr>\n",
              "      <th>101064</th>\n",
              "      <td>2012-01-25</td>\n",
              "      <td>Nuriootpa</td>\n",
              "      <td>SE</td>\n",
              "      <td>ESE</td>\n",
              "      <td>SSE</td>\n",
              "      <td>0.0</td>\n",
              "    </tr>\n",
              "    <tr>\n",
              "      <th>18241</th>\n",
              "      <td>2010-08-06</td>\n",
              "      <td>NorahHead</td>\n",
              "      <td>S</td>\n",
              "      <td>W</td>\n",
              "      <td>S</td>\n",
              "      <td>0.0</td>\n",
              "    </tr>\n",
              "    <tr>\n",
              "      <th>96741</th>\n",
              "      <td>2016-11-30</td>\n",
              "      <td>Adelaide</td>\n",
              "      <td>WSW</td>\n",
              "      <td>NW</td>\n",
              "      <td>SW</td>\n",
              "      <td>0.0</td>\n",
              "    </tr>\n",
              "    <tr>\n",
              "      <th>83246</th>\n",
              "      <td>2012-11-12</td>\n",
              "      <td>Brisbane</td>\n",
              "      <td>E</td>\n",
              "      <td>SE</td>\n",
              "      <td>E</td>\n",
              "      <td>0.0</td>\n",
              "    </tr>\n",
              "    <tr>\n",
              "      <th>86799</th>\n",
              "      <td>2014-06-28</td>\n",
              "      <td>Cairns</td>\n",
              "      <td>NNE</td>\n",
              "      <td>E</td>\n",
              "      <td>NNE</td>\n",
              "      <td>0.0</td>\n",
              "    </tr>\n",
              "    <tr>\n",
              "      <th>54432</th>\n",
              "      <td>2010-12-30</td>\n",
              "      <td>Ballarat</td>\n",
              "      <td>SE</td>\n",
              "      <td>ESE</td>\n",
              "      <td>W</td>\n",
              "      <td>0.0</td>\n",
              "    </tr>\n",
              "    <tr>\n",
              "      <th>120949</th>\n",
              "      <td>2009-02-20</td>\n",
              "      <td>SalmonGums</td>\n",
              "      <td>SE</td>\n",
              "      <td>ENE</td>\n",
              "      <td>ENE</td>\n",
              "      <td>0.0</td>\n",
              "    </tr>\n",
              "    <tr>\n",
              "      <th>82485</th>\n",
              "      <td>2010-09-08</td>\n",
              "      <td>Brisbane</td>\n",
              "      <td>ESE</td>\n",
              "      <td>SW</td>\n",
              "      <td>ESE</td>\n",
              "      <td>0.0</td>\n",
              "    </tr>\n",
              "    <tr>\n",
              "      <th>33451</th>\n",
              "      <td>2010-09-10</td>\n",
              "      <td>SydneyAirport</td>\n",
              "      <td>WNW</td>\n",
              "      <td>NW</td>\n",
              "      <td>WSW</td>\n",
              "      <td>1.0</td>\n",
              "    </tr>\n",
              "    <tr>\n",
              "      <th>132972</th>\n",
              "      <td>2009-02-21</td>\n",
              "      <td>AliceSprings</td>\n",
              "      <td>E</td>\n",
              "      <td>E</td>\n",
              "      <td>SSE</td>\n",
              "      <td>0.0</td>\n",
              "    </tr>\n",
              "  </tbody>\n",
              "</table>\n",
              "</div>"
            ],
            "text/plain": [
              "              date       location windgustdir winddir9am winddir3pm  raintoday\n",
              "101064  2012-01-25      Nuriootpa          SE        ESE        SSE        0.0\n",
              "18241   2010-08-06      NorahHead           S          W          S        0.0\n",
              "96741   2016-11-30       Adelaide         WSW         NW         SW        0.0\n",
              "83246   2012-11-12       Brisbane           E         SE          E        0.0\n",
              "86799   2014-06-28         Cairns         NNE          E        NNE        0.0\n",
              "54432   2010-12-30       Ballarat          SE        ESE          W        0.0\n",
              "120949  2009-02-20     SalmonGums          SE        ENE        ENE        0.0\n",
              "82485   2010-09-08       Brisbane         ESE         SW        ESE        0.0\n",
              "33451   2010-09-10  SydneyAirport         WNW         NW        WSW        1.0\n",
              "132972  2009-02-21   AliceSprings           E          E        SSE        0.0"
            ]
          },
          "metadata": {
            "tags": []
          },
          "execution_count": 44
        }
      ]
    },
    {
      "cell_type": "markdown",
      "metadata": {
        "id": "NvPd2Lg65hIC"
      },
      "source": [
        "Lets count the no. of categories in each columns except date and raintoday"
      ]
    },
    {
      "cell_type": "code",
      "metadata": {
        "id": "ibqJjl--5hIC",
        "outputId": "f023b010-c6a3-43b9-ce56-b673f92ed4cc",
        "colab": {
          "base_uri": "https://localhost:8080/"
        }
      },
      "source": [
        "print(\"Location: \", len(up_X_cat.location.unique()))\n",
        "print(\"WindGustDir: \", len(up_X_cat.windgustdir.unique()))\n",
        "print(\"WindDir9am: \", len(up_X_cat.winddir9am.unique()))\n",
        "print(\"WindDir3pm: \", len(up_X_cat.winddir3pm.unique()))"
      ],
      "execution_count": 55,
      "outputs": [
        {
          "output_type": "stream",
          "text": [
            "Location:  49\n",
            "WindGustDir:  17\n",
            "WindDir9am:  17\n",
            "WindDir3pm:  17\n"
          ],
          "name": "stdout"
        }
      ]
    },
    {
      "cell_type": "markdown",
      "metadata": {
        "id": "q9dJ-y7F5hIC"
      },
      "source": [
        "Lets convert the categorical data using OneHotEncoderTransform"
      ]
    },
    {
      "cell_type": "code",
      "metadata": {
        "id": "M3-tWViW5hIC"
      },
      "source": [
        "from sklearn.preprocessing import OneHotEncoder\n",
        "\n",
        "onehot_encoder = OneHotEncoder()"
      ],
      "execution_count": 46,
      "outputs": []
    },
    {
      "cell_type": "markdown",
      "metadata": {
        "id": "4UQ-u9f35hID"
      },
      "source": [
        "We will add one hot encoding process in the pipeline for only location and other direction categories too."
      ]
    },
    {
      "cell_type": "markdown",
      "metadata": {
        "id": "_AiJIyX45hID"
      },
      "source": [
        "We try to get only the month from the date. So for this we will create an custom transformer."
      ]
    },
    {
      "cell_type": "markdown",
      "metadata": {
        "id": "O_oTIPgX5hID"
      },
      "source": [
        "## Pipelines\n",
        "We are going to create the pipeline for the data cleaning step.\n",
        "We will have seperate transformer for numerical data where:\n",
        "* We use simple imputer with mean strategy for filling the NaN values\n",
        "\n",
        "Another transformer will be for the categorical data where:\n",
        "* We will use Simple imputer with strategy constant and fill Unknown for NaN values.\n",
        "* We use OneHotEncoder for the columns with direction data.\n",
        "* We use OrdinalEncoder for the location since the number of locations are too high and one hot encoder will have the vector of high dimension.\n",
        "* We also use the custom transformer we created to change the date into only month."
      ]
    },
    {
      "cell_type": "code",
      "metadata": {
        "id": "W1O1oHDG5hID",
        "outputId": "0adf7881-57e6-48ca-b266-d1f0b6bb8424",
        "colab": {
          "base_uri": "https://localhost:8080/",
          "height": 419
        }
      },
      "source": [
        "up_X_cat"
      ],
      "execution_count": 56,
      "outputs": [
        {
          "output_type": "execute_result",
          "data": {
            "text/html": [
              "<div>\n",
              "<style scoped>\n",
              "    .dataframe tbody tr th:only-of-type {\n",
              "        vertical-align: middle;\n",
              "    }\n",
              "\n",
              "    .dataframe tbody tr th {\n",
              "        vertical-align: top;\n",
              "    }\n",
              "\n",
              "    .dataframe thead th {\n",
              "        text-align: right;\n",
              "    }\n",
              "</style>\n",
              "<table border=\"1\" class=\"dataframe\">\n",
              "  <thead>\n",
              "    <tr style=\"text-align: right;\">\n",
              "      <th></th>\n",
              "      <th>date</th>\n",
              "      <th>location</th>\n",
              "      <th>windgustdir</th>\n",
              "      <th>winddir9am</th>\n",
              "      <th>winddir3pm</th>\n",
              "      <th>raintoday</th>\n",
              "    </tr>\n",
              "  </thead>\n",
              "  <tbody>\n",
              "    <tr>\n",
              "      <th>101064</th>\n",
              "      <td>2012-01-25</td>\n",
              "      <td>Nuriootpa</td>\n",
              "      <td>SE</td>\n",
              "      <td>ESE</td>\n",
              "      <td>SSE</td>\n",
              "      <td>0.0</td>\n",
              "    </tr>\n",
              "    <tr>\n",
              "      <th>18241</th>\n",
              "      <td>2010-08-06</td>\n",
              "      <td>NorahHead</td>\n",
              "      <td>S</td>\n",
              "      <td>W</td>\n",
              "      <td>S</td>\n",
              "      <td>0.0</td>\n",
              "    </tr>\n",
              "    <tr>\n",
              "      <th>96741</th>\n",
              "      <td>2016-11-30</td>\n",
              "      <td>Adelaide</td>\n",
              "      <td>WSW</td>\n",
              "      <td>NW</td>\n",
              "      <td>SW</td>\n",
              "      <td>0.0</td>\n",
              "    </tr>\n",
              "    <tr>\n",
              "      <th>83246</th>\n",
              "      <td>2012-11-12</td>\n",
              "      <td>Brisbane</td>\n",
              "      <td>E</td>\n",
              "      <td>SE</td>\n",
              "      <td>E</td>\n",
              "      <td>0.0</td>\n",
              "    </tr>\n",
              "    <tr>\n",
              "      <th>86799</th>\n",
              "      <td>2014-06-28</td>\n",
              "      <td>Cairns</td>\n",
              "      <td>NNE</td>\n",
              "      <td>E</td>\n",
              "      <td>NNE</td>\n",
              "      <td>0.0</td>\n",
              "    </tr>\n",
              "    <tr>\n",
              "      <th>...</th>\n",
              "      <td>...</td>\n",
              "      <td>...</td>\n",
              "      <td>...</td>\n",
              "      <td>...</td>\n",
              "      <td>...</td>\n",
              "      <td>...</td>\n",
              "    </tr>\n",
              "    <tr>\n",
              "      <th>88296</th>\n",
              "      <td>2010-03-02</td>\n",
              "      <td>GoldCoast</td>\n",
              "      <td>SE</td>\n",
              "      <td>SE</td>\n",
              "      <td>SE</td>\n",
              "      <td>1.0</td>\n",
              "    </tr>\n",
              "    <tr>\n",
              "      <th>106804</th>\n",
              "      <td>2011-03-17</td>\n",
              "      <td>Albany</td>\n",
              "      <td>NaN</td>\n",
              "      <td>E</td>\n",
              "      <td>E</td>\n",
              "      <td>1.0</td>\n",
              "    </tr>\n",
              "    <tr>\n",
              "      <th>123432</th>\n",
              "      <td>2016-04-26</td>\n",
              "      <td>SalmonGums</td>\n",
              "      <td>W</td>\n",
              "      <td>NNW</td>\n",
              "      <td>WNW</td>\n",
              "      <td>1.0</td>\n",
              "    </tr>\n",
              "    <tr>\n",
              "      <th>79613</th>\n",
              "      <td>2011-08-14</td>\n",
              "      <td>Dartmoor</td>\n",
              "      <td>N</td>\n",
              "      <td>NaN</td>\n",
              "      <td>NNW</td>\n",
              "      <td>0.0</td>\n",
              "    </tr>\n",
              "    <tr>\n",
              "      <th>123940</th>\n",
              "      <td>2009-03-28</td>\n",
              "      <td>Walpole</td>\n",
              "      <td>SSE</td>\n",
              "      <td>WSW</td>\n",
              "      <td>SSE</td>\n",
              "      <td>0.0</td>\n",
              "    </tr>\n",
              "  </tbody>\n",
              "</table>\n",
              "<p>176504 rows × 6 columns</p>\n",
              "</div>"
            ],
            "text/plain": [
              "              date    location windgustdir winddir9am winddir3pm  raintoday\n",
              "101064  2012-01-25   Nuriootpa          SE        ESE        SSE        0.0\n",
              "18241   2010-08-06   NorahHead           S          W          S        0.0\n",
              "96741   2016-11-30    Adelaide         WSW         NW         SW        0.0\n",
              "83246   2012-11-12    Brisbane           E         SE          E        0.0\n",
              "86799   2014-06-28      Cairns         NNE          E        NNE        0.0\n",
              "...            ...         ...         ...        ...        ...        ...\n",
              "88296   2010-03-02   GoldCoast          SE         SE         SE        1.0\n",
              "106804  2011-03-17      Albany         NaN          E          E        1.0\n",
              "123432  2016-04-26  SalmonGums           W        NNW        WNW        1.0\n",
              "79613   2011-08-14    Dartmoor           N        NaN        NNW        0.0\n",
              "123940  2009-03-28     Walpole         SSE        WSW        SSE        0.0\n",
              "\n",
              "[176504 rows x 6 columns]"
            ]
          },
          "metadata": {
            "tags": []
          },
          "execution_count": 56
        }
      ]
    },
    {
      "cell_type": "markdown",
      "metadata": {
        "id": "a3cpA4_y5hID"
      },
      "source": [
        "## Pipeline for numerical data"
      ]
    },
    {
      "cell_type": "code",
      "metadata": {
        "id": "JdiGuc0V5hID"
      },
      "source": [
        "from sklearn.pipeline import Pipeline\n",
        "from sklearn.compose import ColumnTransformer\n",
        "\n",
        "from sklearn.impute import SimpleImputer\n",
        "from sklearn.preprocessing import StandardScaler"
      ],
      "execution_count": 57,
      "outputs": []
    },
    {
      "cell_type": "code",
      "metadata": {
        "id": "pIIQLUtm5hID"
      },
      "source": [
        "num_attributes = ['mintemp', 'maxtemp', 'rainfall', 'evaporation', 'sunshine',\n",
        "       'windgustspeed', 'windspeed9am', 'windspeed3pm', 'humidity9am',\n",
        "       'humidity3pm', 'pressure9am', 'pressure3pm', 'cloud9am', 'cloud3pm',\n",
        "       'temp9am', 'temp3pm']\n",
        "cat_attributes = ['windgustdir', 'winddir9am', 'winddir3pm']"
      ],
      "execution_count": 58,
      "outputs": []
    },
    {
      "cell_type": "code",
      "metadata": {
        "id": "-py4yA6m5hID"
      },
      "source": [
        "numerical_trans = Pipeline([\n",
        "    ('simple_imputer', SimpleImputer(strategy=\"mean\")),\n",
        "    ('standard_scaler', StandardScaler())],\n",
        ")"
      ],
      "execution_count": 59,
      "outputs": []
    },
    {
      "cell_type": "markdown",
      "metadata": {
        "id": "it-rU2-G5hID"
      },
      "source": [
        "## Pipeline for categorical data"
      ]
    },
    {
      "cell_type": "code",
      "metadata": {
        "id": "M4KWwZ125hID"
      },
      "source": [
        "from sklearn.preprocessing import OneHotEncoder, OrdinalEncoder\n",
        "\n",
        "categorical_trans = Pipeline(\n",
        "    [('impute_unknown_for_nan', SimpleImputer(strategy=\"constant\", fill_value=\"Unknown\")),\n",
        "    ('one_hot_dir', OneHotEncoder()),\n",
        "    #  ('ordinal_cat', OrdinalEncoder())\n",
        "    ]\n",
        ")\n",
        "cat_loc_trans = Pipeline([\n",
        "    ('ordinal_loc', OrdinalEncoder()),]\n",
        ")\n",
        "\n",
        "# cat_date_trans = ColumnTransformer([\n",
        "#     ('date_transformer', DateToMonthOnlyTransformer(), ['date'])\n",
        "# ]\n",
        "# )"
      ],
      "execution_count": 63,
      "outputs": []
    },
    {
      "cell_type": "code",
      "metadata": {
        "id": "Ew-oymTe5hID"
      },
      "source": [
        "full_pipeline = ColumnTransformer([\n",
        "    (\"num\", numerical_trans, num_attributes),\n",
        "    (\"cat\", categorical_trans, cat_attributes),\n",
        "    (\"loc\", cat_loc_trans, ['location']),\n",
        "#     (\"date\", DateToMonthOnlyTransformer(), 'date')\n",
        "], remainder='drop')"
      ],
      "execution_count": 64,
      "outputs": []
    },
    {
      "cell_type": "markdown",
      "metadata": {
        "id": "3qb80iKQ5hID"
      },
      "source": [
        "## Train and Evaluate on the Training Set"
      ]
    },
    {
      "cell_type": "markdown",
      "metadata": {
        "id": "mVrgeA_L5hID"
      },
      "source": [
        "According to [this](https://drgabrielharris.medium.com/python-how-scikit-learn-0-20-optimal-pipeline-and-best-practices-dc4dd94d2c09)"
      ]
    },
    {
      "cell_type": "code",
      "metadata": {
        "id": "ZN4PIikWBU0c"
      },
      "source": [
        "from sklearn.model_selection import GridSearchCV\n",
        "from sklearn.metrics import classification_report, confusion_matrix,accuracy_score, roc_auc_score, classification_report, plot_confusion_matrix, roc_curve, f1_score\n",
        "import time"
      ],
      "execution_count": 69,
      "outputs": []
    },
    {
      "cell_type": "markdown",
      "metadata": {
        "id": "v1_uXOKBEI39"
      },
      "source": [
        "### Decision Tree"
      ]
    },
    {
      "cell_type": "code",
      "metadata": {
        "id": "TMCGUqbgEHtQ"
      },
      "source": [
        "from sklearn.tree import DecisionTreeClassifier"
      ],
      "execution_count": 83,
      "outputs": []
    },
    {
      "cell_type": "code",
      "metadata": {
        "id": "ZIDo8TMZ5hID"
      },
      "source": [
        "tree = DecisionTreeClassifier(random_state=42)\n",
        "\n",
        "pipeline_tree = Pipeline(steps=[('full', full_pipeline),\n",
        "                           ('classifier', tree)])"
      ],
      "execution_count": 96,
      "outputs": []
    },
    {
      "cell_type": "code",
      "metadata": {
        "id": "CYSzhhYT5hID"
      },
      "source": [
        "params = {'classifier__criterion': ['entropy', 'gini'],\n",
        "          'classifier__max_depth': [5,6,7],\n",
        "          'classifier__min_samples_leaf': [4,5,6]}\n",
        "\n",
        "classifier_gs_tree = GridSearchCV(pipeline_tree, params, scoring='accuracy', cv=5, verbose=1)"
      ],
      "execution_count": 100,
      "outputs": []
    },
    {
      "cell_type": "code",
      "metadata": {
        "id": "_wxFkR3_5hID",
        "outputId": "9df530d8-77df-4a4f-9d32-c875b663cdf5",
        "colab": {
          "base_uri": "https://localhost:8080/"
        }
      },
      "source": [
        "t0 = time.time()\n",
        "classifier_gs_tree.fit(up_X, up_y)\n",
        "tt_tree = time.time()-t0"
      ],
      "execution_count": 101,
      "outputs": [
        {
          "output_type": "stream",
          "text": [
            "Fitting 5 folds for each of 18 candidates, totalling 90 fits\n"
          ],
          "name": "stdout"
        },
        {
          "output_type": "stream",
          "text": [
            "[Parallel(n_jobs=1)]: Using backend SequentialBackend with 1 concurrent workers.\n",
            "[Parallel(n_jobs=1)]: Done  90 out of  90 | elapsed:  3.4min finished\n"
          ],
          "name": "stderr"
        }
      ]
    },
    {
      "cell_type": "code",
      "metadata": {
        "id": "6EXMz5v_5hIE"
      },
      "source": [
        "ypred = classifier_gs_tree.predict(test_X)"
      ],
      "execution_count": 102,
      "outputs": []
    },
    {
      "cell_type": "code",
      "metadata": {
        "id": "cp1hKvq45hIE",
        "outputId": "da4bbe3c-f678-4a82-8ef7-d5170109dd14",
        "colab": {
          "base_uri": "https://localhost:8080/"
        }
      },
      "source": [
        "print(\"Time Taken: \", tt_tree)\n",
        "print(\"Classification Report\")\n",
        "print(classification_report(test_y, ypred))"
      ],
      "execution_count": 103,
      "outputs": [
        {
          "output_type": "stream",
          "text": [
            "Time Taken:  209.73890781402588\n",
            "Classification Report\n",
            "              precision    recall  f1-score   support\n",
            "\n",
            "           0       0.92      0.75      0.83     22064\n",
            "           1       0.48      0.78      0.59      6375\n",
            "\n",
            "    accuracy                           0.76     28439\n",
            "   macro avg       0.70      0.77      0.71     28439\n",
            "weighted avg       0.82      0.76      0.77     28439\n",
            "\n"
          ],
          "name": "stdout"
        }
      ]
    },
    {
      "cell_type": "code",
      "metadata": {
        "id": "dh1g5Kl4DMh4",
        "outputId": "fda33e4d-5dc5-49d3-f1c7-08a0f6329a6f",
        "colab": {
          "base_uri": "https://localhost:8080/",
          "height": 296
        }
      },
      "source": [
        "plot_confusion_matrix(classifier_gs_tree, test_X, test_y,cmap=plt.cm.Blues, normalize = 'all')"
      ],
      "execution_count": 104,
      "outputs": [
        {
          "output_type": "execute_result",
          "data": {
            "text/plain": [
              "<sklearn.metrics._plot.confusion_matrix.ConfusionMatrixDisplay at 0x7fbaa26fe2e8>"
            ]
          },
          "metadata": {
            "tags": []
          },
          "execution_count": 104
        },
        {
          "output_type": "display_data",
          "data": {
            "image/png": "[encoded data removed]",
            "text/plain": [
              "<Figure size 432x288 with 2 Axes>"
            ]
          },
          "metadata": {
            "tags": [],
            "needs_background": "light"
          }
        }
      ]
    },
    {
      "cell_type": "markdown",
      "metadata": {
        "id": "oi3ixkkgENz8"
      },
      "source": [
        "### Logistic Regression"
      ]
    },
    {
      "cell_type": "code",
      "metadata": {
        "id": "1FfLhaPbDhz7"
      },
      "source": [
        "from sklearn.linear_model import LogisticRegression"
      ],
      "execution_count": 91,
      "outputs": []
    },
    {
      "cell_type": "code",
      "metadata": {
        "id": "eGUoUwOvEZIg"
      },
      "source": [
        "lr = LogisticRegression(random_state=42)\n",
        "\n",
        "pipeline_lr = Pipeline(steps=[('full', full_pipeline),\n",
        "                           ('classifier', lr)])"
      ],
      "execution_count": 105,
      "outputs": []
    },
    {
      "cell_type": "code",
      "metadata": {
        "id": "0AUFZWT-Enqi"
      },
      "source": [
        "params = {'classifier__penalty': ['l1', 'l2'],\n",
        "          'classifier__solver': ['liblinear']}\n",
        "\n",
        "classifier_gs_lr = GridSearchCV(pipeline_lr, params, scoring='accuracy', cv=5, verbose=1)"
      ],
      "execution_count": 108,
      "outputs": []
    },
    {
      "cell_type": "code",
      "metadata": {
        "colab": {
          "base_uri": "https://localhost:8080/"
        },
        "id": "o05HNvF3HBjp",
        "outputId": "fdf47458-1854-4939-f9ab-27169f3d2790"
      },
      "source": [
        "t0 = time.time()\n",
        "classifier_gs_lr.fit(up_X, up_y)\n",
        "tt_lr = time.time()-t0"
      ],
      "execution_count": 109,
      "outputs": [
        {
          "output_type": "stream",
          "text": [
            "Fitting 5 folds for each of 2 candidates, totalling 10 fits\n"
          ],
          "name": "stdout"
        },
        {
          "output_type": "stream",
          "text": [
            "[Parallel(n_jobs=1)]: Using backend SequentialBackend with 1 concurrent workers.\n",
            "[Parallel(n_jobs=1)]: Done  10 out of  10 | elapsed:   28.6s finished\n"
          ],
          "name": "stderr"
        }
      ]
    },
    {
      "cell_type": "code",
      "metadata": {
        "id": "0jsuacvqHaq4"
      },
      "source": [
        "ypred_lr = classifier_gs_lr.predict(test_X)"
      ],
      "execution_count": 114,
      "outputs": []
    },
    {
      "cell_type": "code",
      "metadata": {
        "colab": {
          "base_uri": "https://localhost:8080/"
        },
        "id": "seVZdy76HoIQ",
        "outputId": "e7c79265-269e-4111-9834-cd015d697ccc"
      },
      "source": [
        "print(\"Time Taken: \", tt_tree)\n",
        "print(\"Classification Report\")\n",
        "print(classification_report(test_y, ypred_lr))"
      ],
      "execution_count": 115,
      "outputs": [
        {
          "output_type": "stream",
          "text": [
            "Time Taken:  30.39187240600586\n",
            "Classification Report\n",
            "              precision    recall  f1-score   support\n",
            "\n",
            "           0       0.92      0.79      0.85     22064\n",
            "           1       0.52      0.77      0.62      6375\n",
            "\n",
            "    accuracy                           0.79     28439\n",
            "   macro avg       0.72      0.78      0.74     28439\n",
            "weighted avg       0.83      0.79      0.80     28439\n",
            "\n"
          ],
          "name": "stdout"
        }
      ]
    },
    {
      "cell_type": "code",
      "metadata": {
        "id": "sfCnEmJ-Ifcy",
        "outputId": "ab2d7fc2-7695-4942-cf36-2f74d4b83c3d",
        "colab": {
          "base_uri": "https://localhost:8080/",
          "height": 296
        }
      },
      "source": [
        "plot_confusion_matrix(classifier_gs_lr, test_X, test_y,cmap=plt.cm.Blues, normalize = 'all')"
      ],
      "execution_count": 117,
      "outputs": [
        {
          "output_type": "execute_result",
          "data": {
            "text/plain": [
              "<sklearn.metrics._plot.confusion_matrix.ConfusionMatrixDisplay at 0x7fbaa266be80>"
            ]
          },
          "metadata": {
            "tags": []
          },
          "execution_count": 117
        },
        {
          "output_type": "display_data",
          "data": {
            "image/png": "[encoded data removed]",
            "text/plain": [
              "<Figure size 432x288 with 2 Axes>"
            ]
          },
          "metadata": {
            "tags": [],
            "needs_background": "light"
          }
        }
      ]
    },
    {
      "cell_type": "markdown",
      "metadata": {
        "id": "8vxAQDjVIur3"
      },
      "source": [
        "### Random Forest Classifier"
      ]
    },
    {
      "cell_type": "code",
      "metadata": {
        "id": "KPvzjKfGIgBR"
      },
      "source": [
        "from sklearn.ensemble import RandomForestClassifier"
      ],
      "execution_count": 118,
      "outputs": []
    },
    {
      "cell_type": "code",
      "metadata": {
        "id": "bRUzZo4OIgBR"
      },
      "source": [
        "rf = RandomForestClassifier(random_state=42)\n",
        "\n",
        "pipeline_rf= Pipeline(steps=[('full', full_pipeline),\n",
        "                           ('classifier', rf)])"
      ],
      "execution_count": 121,
      "outputs": []
    },
    {
      "cell_type": "code",
      "metadata": {
        "id": "TLAK3iyYIgBR"
      },
      "source": [
        "params = {'classifier__criterion': ['gini', 'entropy'],\n",
        "          'classifier__min_samples_leaf': [4,5,6],\n",
        "          'classifier__max_depth': [4,5,6]}\n",
        "\n",
        "classifier_gs_rf = GridSearchCV(pipeline_rf, params, scoring='accuracy', cv=5, verbose=1)"
      ],
      "execution_count": 122,
      "outputs": []
    },
    {
      "cell_type": "code",
      "metadata": {
        "colab": {
          "base_uri": "https://localhost:8080/"
        },
        "id": "MLATQdJnIgBR",
        "outputId": "6b55dc65-f298-46bd-c59b-378e7c14a91d"
      },
      "source": [
        "t0 = time.time()\n",
        "classifier_gs_rf.fit(up_X, up_y)\n",
        "tt_rf = time.time()-t0"
      ],
      "execution_count": null,
      "outputs": [
        {
          "output_type": "stream",
          "text": [
            "Fitting 5 folds for each of 18 candidates, totalling 90 fits\n"
          ],
          "name": "stdout"
        },
        {
          "output_type": "stream",
          "text": [
            "[Parallel(n_jobs=1)]: Using backend SequentialBackend with 1 concurrent workers.\n"
          ],
          "name": "stderr"
        }
      ]
    },
    {
      "cell_type": "code",
      "metadata": {
        "id": "PyKJg9zOIgBR"
      },
      "source": [
        "ypred_rf = classifier_gs_rf.predict(test_X)"
      ],
      "execution_count": null,
      "outputs": []
    },
    {
      "cell_type": "code",
      "metadata": {
        "colab": {
          "base_uri": "https://localhost:8080/"
        },
        "id": "I_s-VmWaIgBS",
        "outputId": "e7c79265-269e-4111-9834-cd015d697ccc"
      },
      "source": [
        "print(\"Time Taken: \", tt_rf)\n",
        "print(\"Classification Report\")\n",
        "print(classification_report(test_y, ypred_rf))"
      ],
      "execution_count": null,
      "outputs": [
        {
          "output_type": "stream",
          "text": [
            "Time Taken:  30.39187240600586\n",
            "Classification Report\n",
            "              precision    recall  f1-score   support\n",
            "\n",
            "           0       0.92      0.79      0.85     22064\n",
            "           1       0.52      0.77      0.62      6375\n",
            "\n",
            "    accuracy                           0.79     28439\n",
            "   macro avg       0.72      0.78      0.74     28439\n",
            "weighted avg       0.83      0.79      0.80     28439\n",
            "\n"
          ],
          "name": "stdout"
        }
      ]
    },
    {
      "cell_type": "code",
      "metadata": {
        "id": "JBrWAVeVLT_-"
      },
      "source": [
        "plot_confusion_matrix(classifier_gs_rf, test_X, test_y,cmap=plt.cm.Blues, normalize = 'all')"
      ],
      "execution_count": null,
      "outputs": []
    },
    {
      "cell_type": "markdown",
      "metadata": {
        "id": "bIauaAGNKmib"
      },
      "source": [
        "### MLP Classifier"
      ]
    },
    {
      "cell_type": "code",
      "metadata": {
        "id": "vrWpRGTeKpt4"
      },
      "source": [
        "from sklearn.neural_network import MLPClassifier"
      ],
      "execution_count": null,
      "outputs": []
    },
    {
      "cell_type": "code",
      "metadata": {
        "id": "57Dx1_C9Kpt4"
      },
      "source": [
        "mlp = MLPClassifier(random_state=42)\n",
        "\n",
        "pipeline_mlp= Pipeline(steps=[('full', full_pipeline),\n",
        "                           ('classifier', mlp)])"
      ],
      "execution_count": null,
      "outputs": []
    },
    {
      "cell_type": "code",
      "metadata": {
        "id": "z_reCRxeKpt4"
      },
      "source": [
        "params = {'solver': ['lbfgs'], \n",
        "          'max_iter': [1300,1400,1500,1600,1700 ], \n",
        "          'alpha': 10.0 ** -np.arange(1, 10), \n",
        "          'hidden_layer_sizes':np.arange(10, 15),}\n",
        "\n",
        "classifier_gs_mlp = GridSearchCV(pipeline_mlp, params, scoring='accuracy', cv=5, verbose=1)"
      ],
      "execution_count": null,
      "outputs": []
    },
    {
      "cell_type": "code",
      "metadata": {
        "colab": {
          "base_uri": "https://localhost:8080/"
        },
        "id": "-FdF2cebKpt5",
        "outputId": "6b55dc65-f298-46bd-c59b-378e7c14a91d"
      },
      "source": [
        "t0 = time.time()\n",
        "classifier_gs_mlp.fit(up_X, up_y)\n",
        "tt_mlp = time.time()-t0"
      ],
      "execution_count": null,
      "outputs": [
        {
          "output_type": "stream",
          "text": [
            "Fitting 5 folds for each of 18 candidates, totalling 90 fits\n"
          ],
          "name": "stdout"
        },
        {
          "output_type": "stream",
          "text": [
            "[Parallel(n_jobs=1)]: Using backend SequentialBackend with 1 concurrent workers.\n"
          ],
          "name": "stderr"
        }
      ]
    },
    {
      "cell_type": "code",
      "metadata": {
        "id": "5UaGE6LjKpt8"
      },
      "source": [
        "ypred_rf = classifier_gs_mlp.predict(test_X)"
      ],
      "execution_count": null,
      "outputs": []
    },
    {
      "cell_type": "code",
      "metadata": {
        "colab": {
          "base_uri": "https://localhost:8080/"
        },
        "id": "uf3BACq2Kpt8",
        "outputId": "e7c79265-269e-4111-9834-cd015d697ccc"
      },
      "source": [
        "print(\"Time Taken: \", tt_mlp)\n",
        "print(\"Classification Report\")\n",
        "print(classification_report(test_y, ypred_mlp))"
      ],
      "execution_count": null,
      "outputs": [
        {
          "output_type": "stream",
          "text": [
            "Time Taken:  30.39187240600586\n",
            "Classification Report\n",
            "              precision    recall  f1-score   support\n",
            "\n",
            "           0       0.92      0.79      0.85     22064\n",
            "           1       0.52      0.77      0.62      6375\n",
            "\n",
            "    accuracy                           0.79     28439\n",
            "   macro avg       0.72      0.78      0.74     28439\n",
            "weighted avg       0.83      0.79      0.80     28439\n",
            "\n"
          ],
          "name": "stdout"
        }
      ]
    },
    {
      "cell_type": "code",
      "metadata": {
        "id": "vCIbfixZLm8X"
      },
      "source": [
        "plot_confusion_matrix(classifier_gs_mlp, test_X, test_y,cmap=plt.cm.Blues, normalize = 'all')"
      ],
      "execution_count": null,
      "outputs": []
    },
    {
      "cell_type": "code",
      "metadata": {
        "id": "W6gkP5Y75hIE"
      },
      "source": [
        ""
      ],
      "execution_count": null,
      "outputs": []
    }
  ]
}